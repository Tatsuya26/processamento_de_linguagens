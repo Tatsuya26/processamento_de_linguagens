{
 "cells": [
  {
   "cell_type": "markdown",
   "metadata": {},
   "source": [
    "# Aula Prática 24-03 - Gramáticas \n",
    "\n",
    "G = (T,N,S,P)\n",
    "* T - simbolos terminais\n",
    "* N - símbolos não terminais\n",
    "* I - símbolo inicial (pertence a N) \n",
    "* P - produções\n",
    "\n",
    "## Gramáticas Regulares"
   ]
  },
  {
   "cell_type": "markdown",
   "metadata": {},
   "source": [
    "#### exemplo 1:\n",
    "linguagem: ab\n",
    "* T = {a,b}\n",
    "* N = {S}\n",
    "* I = S\n",
    "* P = S -> ab\n",
    "\n",
    "ou \n",
    "\n",
    "* T = {a,b}\n",
    "* N = {S,A,B}\n",
    "* I = S\n",
    "* P = S -> AB; A -> a; B -> b"
   ]
  },
  {
   "cell_type": "markdown",
   "metadata": {},
   "source": [
    "#### exemplo 2:\n",
    "linguagem: a+\n",
    "\n",
    "* T = {a}\n",
    "* N = {S,A}\n",
    "* I = S\n",
    "* P = S -> a A; A -> a A | epsilon\n",
    "\n",
    "ou\n",
    "\n",
    "* T = {a}\n",
    "* N = {S}\n",
    "* I = S\n",
    "* P = S -> a S | a\n",
    "\n",
    "\n",
    "##### derivação da frase:  aaaa\n",
    "\n",
    "S =p1=> aS =p1=> aaS =p1=> aaaS =p2=> aaaa\n"
   ]
  },
  {
   "cell_type": "markdown",
   "metadata": {},
   "source": [
    "#### exemplo 3:\n",
    "\n",
    "linguagem: a*\n",
    "\n",
    "* T = {a}\n",
    "* N = {S}\n",
    "* I = S\n",
    "* P = S -> a S | epsilon"
   ]
  },
  {
   "cell_type": "markdown",
   "metadata": {},
   "source": [
    "#### exemplo 4:\n",
    "linguagem: a*b\n",
    "\n",
    "* T = {a}\n",
    "* N = {S}\n",
    "* I = S\n",
    "* P = S -> a S | b"
   ]
  },
  {
   "cell_type": "markdown",
   "metadata": {},
   "source": [
    "#### exemplo 5:\n",
    "\n",
    "linguagem: a+b\n",
    "\n",
    "* T = {a}\n",
    "* N = {S,A,B}\n",
    "* I = S\n",
    "* P = S -> AB; A -> aA | a; B -> b\n",
    "\n",
    "ou \n",
    "\n",
    "* T = {a}\n",
    "* N = {S,A,B}\n",
    "* I = S\n",
    "* P = S -> a S | ab"
   ]
  },
  {
   "cell_type": "markdown",
   "metadata": {},
   "source": [
    "#### exemplo 6: \n",
    "\n",
    "linguagem: (a|b)*\n",
    "\n",
    "* T = {a,b}\n",
    "* N = {S,A}\n",
    "* I = S\n",
    "* P = S -> AS | epsilon; A -> a | b\n",
    "\n",
    "#### derivação da frase: aba\n",
    "\n",
    "S =p1=> AS =p3=> aS =p1=> aAS =p4=> abS =p1=> abAS =p3=> abaS =p2=> aba"
   ]
  },
  {
   "cell_type": "markdown",
   "metadata": {},
   "source": [
    "## Gramáticas Independentes de Contexto\n",
    "\n",
    "#### exemplo 1:\n",
    "\n",
    "linguagem: a^nb^n (sequência de a's e b's onde o número de a's é igual ao número de b's)\n",
    "\n",
    "* T = {a,b}\n",
    "* N = {S}\n",
    "* I = S\n",
    "* P = S -> epsilon | aSb\n",
    "\n",
    "#### derivação da frase: aabb\n",
    "\n",
    "S =p2=> aSb =p2=> aaSbb =p1=> aabb"
   ]
  },
  {
   "cell_type": "markdown",
   "metadata": {},
   "source": [
    "#### exemplo 2:\n",
    "\n",
    "linguagem: a^ncb^n (sequência de a's e b's onde o número de a's é igual ao número de b's com um c no meio)\n",
    "\n",
    "* T = {a,b,c}\n",
    "* N = {S}\n",
    "* I = S\n",
    "* P = S -> c | aSb"
   ]
  },
  {
   "cell_type": "markdown",
   "metadata": {},
   "source": [
    "#### exemplo 3:\n",
    "\n",
    "linguagem: palavras que se escrevem de igual forma de trás pra frente e de frente pra trás\n",
    "\n",
    "{w(a|b)?w^i, w pertence a {a,b}*} onde w^i corresponde a sequência de letras inversas a w\n",
    "\n",
    "* T = {a,b}\n",
    "* N = {S}\n",
    "* I = S\n",
    "* P = S -> epsilon | aSa | bSb | a | b"
   ]
  },
  {
   "cell_type": "markdown",
   "metadata": {},
   "source": [
    "#### exemplo 4:\n",
    "\n",
    "linguagem: palavras que tem número impar de b's\n",
    "\n",
    "* T = {a,b}\n",
    "* N = {S,X}\n",
    "* I = S\n",
    "* P = S -> aS | bX; X -> epsilon | aX | bXb"
   ]
  },
  {
   "cell_type": "markdown",
   "metadata": {},
   "source": [
    "#### exemplo 5:\n",
    "linguagem: palavras com número igual de a's e b's\n",
    "\n",
    "minha resolução:\n",
    " \n",
    "* T = {a,b}\n",
    "* N = {S,A,B}\n",
    "* I = S\n",
    "* P = S -> aA | bB | epsilon; A -> SbS; B -> SaS; \n",
    "\n",
    "resolução do professor:\n",
    " \n",
    "* T = {a,b}\n",
    "* N = {S,A,B}\n",
    "* I = S\n",
    "* P = S -> epsilon | aSbS | bSaS\n",
    "\n",
    "#### derivação da frase com a minha resolução: abbaba\n",
    "\n",
    "S =p1=> aA =p4&p3=>abS =p2=> abbB =p5&p3=> abbaS =p2=> abbabB =p5&p3=> abbaba\n",
    "\n",
    "#### derivação da frase com a resolução do professor: abbaba\n",
    "\n",
    "p2,p1,p3,p1,p3,p1,p1\n",
    "\n",
    "S =p2=> aSbS =p1=>"
   ]
  },
  {
   "cell_type": "markdown",
   "metadata": {},
   "source": [
    "#### exemplo 6:\n",
    "linguagem: listas com números e palavras\n",
    "\n",
    "exemplo: [1 2 a b ola 43]\n",
    "\n",
    "identificar tokens: T = {'[', ']', NUM, PAL}\n",
    "\n",
    "lista -> [elementos]\n",
    "elementos -> epsilon | elem elementos\n",
    "elem -> NUM | PAL\n",
    "\n",
    "\n",
    "#### derivação da frase: [NUM PAL NUM]\n",
    "\n",
    "lista =p1=> [elementos] =p3=> [elem elementos] =p4=> [NUM elementos] =p3=> [NUM elem elementos] =p5=> [NUM PAL elementos] =p3=> [NUM PAL elem elementos] =p4&p2=> [NUM PAL NUM] \n",
    "\n",
    "\n",
    "#### árvore de derivação: [NUM PAL]\n"
   ]
  },
  {
   "cell_type": "code",
   "execution_count": null,
   "metadata": {},
   "outputs": [],
   "source": [
    "#      lista\n",
    "#   /    |    \\\n",
    "#  [ elementos ]\n",
    "#     /     \\\n",
    "#  elem   elementos\n",
    "#   |       /   \\\n",
    "#  NUM   elem  elementos\n",
    "#          |       |\n",
    "#         PAL    epsilon"
   ]
  }
 ],
 "metadata": {
  "language_info": {
   "name": "python"
  },
  "orig_nbformat": 4
 },
 "nbformat": 4,
 "nbformat_minor": 2
}
