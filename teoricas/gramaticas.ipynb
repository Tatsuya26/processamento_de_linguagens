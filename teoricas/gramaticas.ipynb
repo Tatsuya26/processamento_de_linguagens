{
 "cells": [
  {
   "cell_type": "markdown",
   "metadata": {},
   "source": [
    "Autómatos Finitos Deterministas\n",
    "\n",
    "Gramáticas Regulares\n",
    "    (T,N,S,P)\n",
    " \n",
    "Símbolos terminais\n",
    "  1. Sinais: são  constituidos por um caráter;\n",
    "  2. Palavras reservadas: Strings constantes;\n",
    "  3. Terminais variáveis: identificadores, inteiros, etc;\n",
    "\n",
    "Listas Haskell:\n",
    "[]\n",
    "[1]\n",
    "[1,2,3]\n",
    "T = {'[',']',inteiro,','}\n",
    "N = {}\n",
    "P = { \n",
    "        s -> '[' conteudo ']'\n",
    "        conteudo -> inteiros cont | vazio  \n",
    "        cont -> vazio | ',' inteiro cont\n",
    "    }\n",
    "\n"
   ]
  },
  {
   "cell_type": "code",
   "execution_count": null,
   "metadata": {},
   "outputs": [],
   "source": []
  }
 ],
 "metadata": {
  "language_info": {
   "name": "python"
  },
  "orig_nbformat": 4
 },
 "nbformat": 4,
 "nbformat_minor": 2
}
