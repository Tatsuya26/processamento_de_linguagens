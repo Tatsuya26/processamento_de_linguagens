{
 "cells": [
  {
   "cell_type": "markdown",
   "metadata": {},
   "source": [
    "# Email\n",
    "\n",
    "`user@dom.top-dom`\n",
    "\n",
    "* user - alfanuméricos ou alguns carateres especiais: '-', '.', etc;\n",
    "* O primeiro e último caráter não pode ser um caráter especial;\n",
    "* Não pode haver 2 carateres especiais consecutivos;\n",
    "\n",
    "* dom - alfanuméricos e hífen;\n",
    "* top-dom - alfanuméricos e hífen com 2 ou mais carateres."
   ]
  },
  {
   "cell_type": "markdown",
   "metadata": {},
   "source": [
    "Criar um programa em Python que:\n",
    "1. Apanha os emails presentes no dataset;\n",
    "2. Ordena-os alfabeticamente;\n",
    "3. Como resultado, apresenta-os numa linha separados por ';'"
   ]
  },
  {
   "cell_type": "markdown",
   "metadata": {},
   "source": []
  }
 ],
 "metadata": {
  "language_info": {
   "name": "python"
  },
  "orig_nbformat": 4
 },
 "nbformat": 4,
 "nbformat_minor": 2
}
