{
 "cells": [
  {
   "cell_type": "markdown",
   "metadata": {},
   "source": [
    "O objetivo deste primeiro exerc´ıcio ´e duplo. Por um lado, pretende-se que explore o conceito de Express˜ao Regular\n",
    "(RE) e seus operadores (b´asicos ou estendidos) para descrever padr˜oes de texto; por outro lado, pretende-se que recorra\n",
    "ao m´odulo ’re’ do Python para pesquisar a ocorrˆencia de strings dentro de uma linha que obede¸cam a cada um dos\n",
    "seguintes padr˜oes (para facilitar o trabalho explore os programas anexos ’basic0.py’ a ’basic5a.py’):\n",
    "1. a palavra ’hello’ no inıcio da linha (basic0)\n",
    "2. a palavra ’hello’ em qualquer posi¸c˜ao da linha (basic1)\n",
    "3. todas as ocorrˆencias da palavra ’hello’ dentro da linha, admitindo que a palavra seja escrita com maiusculas ou minusculas (basic2)\n",
    "4. todas as ocorrˆencias da palavra ’hello’ dentro da linha substituindo cada uma por ’*YEP*’ (basic3, basic4)\n",
    "5. todas as ocorrˆencias do carater vırgula, separando cada parte da linha por esse carater (basic5, basic5a)"
   ]
  },
  {
   "cell_type": "code",
   "execution_count": 3,
   "metadata": {},
   "outputs": [
    {
     "name": "stdout",
     "output_type": "stream",
     "text": [
      "VÁLIDO\n",
      "VÁLIDO\n",
      "INVÁLIDO\n",
      "VÁLIDO\n"
     ]
    }
   ],
   "source": [
    "import re \n",
    "\n",
    "er1 = r'^hello'\n",
    "er2 = r'hello'\n",
    "er3 = r'hello*'\n",
    "p   = re.compile(er2)\n",
    "\n",
    "verifica = [\"hello..hello.\", \"aaahello\", \"hell\", \"  hello  \"]\n",
    "\n",
    "def verifica_expressão_regular(verifica, er):\n",
    "    for s in verifica :\n",
    "        if p.search(s):\n",
    "            print(\"VÁLIDO\")\n",
    "        else:\n",
    "            print(\"INVÁLIDO\")\n",
    "\n",
    "verifica_expressão_regular(verifica,er2)\n",
    "\n"
   ]
  },
  {
   "cell_type": "markdown",
   "metadata": {},
   "source": [
    "Numa galáxia distante, num planeta muito diferente do nosso, cada utilizador dum computador tem um identificador\n",
    "que segue o seguinte formato:\n",
    "    • Come¸ca com um ”underscore”, ’ ’, ou um ponto, ’.’;\n",
    "    • Apos o primeiro car´ater devem seguir-se um ou mais d´ıgitos;\n",
    "    • Apos um certo n´umero de d´ıgitos devem seguir-se trˆes ou mais letras, mai´usculas e/ou minusculas;\n",
    "    • O nome do utilizador pode ser, opcionalmente terminado por um ”underscore”, ’ ’. Caso isso nao aconteca, o ultimo carater deve ser uma letra."
   ]
  },
  {
   "cell_type": "code",
   "execution_count": 1,
   "metadata": {},
   "outputs": [
    {
     "name": "stdout",
     "output_type": "stream",
     "text": [
      "VÁLIDO\n",
      "INVÁLIDO\n",
      "VÁLIDO\n"
     ]
    }
   ],
   "source": [
    "import re\n",
    "\n",
    "e = r'^(_|\\.)\\d+[a-zA-z]{3,}.+_?$'\n",
    "p = re.compile(e)\n",
    "\n",
    "verifica = ['_0898989811abced_','_abce','_09090909abcD0']\n",
    "\n",
    "for s in verifica :\n",
    "    if p.match(s):\n",
    "      print(\"VÁLIDO\")\n",
    "    else:\n",
    "      print(\"INVÁLIDO\")"
   ]
  },
  {
   "cell_type": "markdown",
   "metadata": {},
   "source": [
    "Problema 2: Endere¸cos IP\n",
    "Dada uma lista de linhas em que cada uma deve conter um endere¸co IP, IPv4 ou IPv6, supostamente v´alido, desenvolva\n",
    "um filtro de texto que identifica o tipo de endere¸co IP ou acusa um erro.\n",
    "Os endere¸cos IPv4 foram os primeiros endere¸cos a serem usados na Internet e eram constitu´ıdos por 4 bytes. O formato\n",
    "normal ´e ”A.B.C.D”em que A, B, C e D s˜ao inteiros compreendidos entre 0 e 255 inclusive.\n",
    "O IPv4 limitava o n´umero de endere¸cos a um n´umero baixo para as necessidades de hoje em dia e assim surgiu o IPv6.\n",
    "Com 128 bits, veio permitir um maior espa¸co de endere¸camento. Os 128 bits dum endere¸co IPv6 s˜ao representados\n",
    "em 8 grupos de 16 bits cada um. Cada grupo ´e representado por 4 d´ıgitos hexadecimais e cada grupo ´e separado do\n",
    "seguinte por ’:’. Por exemplo: ”2001:0db8:0000:0000:0000:ff00:0042:8329”. Os zeros `a esquerda podem ser omitidos.\n",
    "Um endere¸co contendo ”...:0:...”ou ”...:5:...”´e idˆentico a ”...:0000:...”ou ”...:0005:....”."
   ]
  },
  {
   "cell_type": "code",
   "execution_count": 3,
   "metadata": {},
   "outputs": [
    {
     "name": "stdout",
     "output_type": "stream",
     "text": [
      "ERRO\n",
      "IPv4\n",
      "IPv6\n",
      "ERRO\n"
     ]
    }
   ],
   "source": [
    "import re\n",
    "\n",
    "regex_ipv4 = r'^(((1\\d{2}|2[0-5]{1,2}|\\d{1,2})\\.){3}((1\\d{2})|2[0-5]{1,2}|\\d{1,2}))'\n",
    "regex_ipv6 = r'^((\\d|[a-f]){4}(:)?){8}$'\n",
    "p_ipv4 = re.compile(regex_ipv4)\n",
    "p_ipv6 = re.compile(regex_ipv6)\n",
    "\n",
    "verifica = ['Esta e uma linha de lixo.','121.18.19.20','2001:0db8:0000:0000:0000:ff00:0042:8329','epl.di.uminho.pt 193.136.19.129']\n",
    "\n",
    "for s in verifica :\n",
    "    if p_ipv4.match(s):\n",
    "      print(\"IPv4\")\n",
    "    elif p_ipv6.match(s):\n",
    "      print(\"IPv6\")\n",
    "    else:\n",
    "      print(\"ERRO\")"
   ]
  },
  {
   "cell_type": "markdown",
   "metadata": {},
   "source": [
    "Problema 3: Latitude e Longitude\n",
    "    Dada uma lista de pares de coordenadas, latitude e longitude, supostamente v´alidos, especifica um filtro de texto que\n",
    "    faz a sua verifica¸c˜ao atendendo aos seguintes requisitos:\n",
    "    • Cada par de coordenadas dever´a seguir a forma: (X, Y ) onde X e Y s˜ao n´umeros decimais (parte inteira e uma\n",
    "    parte decimal opcional);\n",
    "    • O valor de X dever´a estar entre −90 e +90;\n",
    "    • O valor de Y dever´a estar entre −180 e +180;\n",
    "    • Quer X quer Y podem ser opcionalmente precedidos por um sinal + ou −;\n",
    "    • Tem de haver um espa¸co entre Y e a v´ırgula precedente;\n",
    "    • N˜ao h´a espa¸co entre X e o parentesis precedente nem entre Y e o parentesis que se lhe segue;\n",
    "    • N˜ao poder´a haver zeros desnecess´arios `a esquerda nas partes inteiras."
   ]
  },
  {
   "cell_type": "code",
   "execution_count": 1,
   "metadata": {},
   "outputs": [
    {
     "name": "stdout",
     "output_type": "stream",
     "text": [
      "Válido\n",
      "Válido\n",
      "Válido\n",
      "Válido\n",
      "Válido\n",
      "Inválido\n",
      "Inválido\n",
      "Inválido\n",
      "Inválido\n",
      "Inválido\n",
      "Inválido\n",
      "Inválido\n"
     ]
    }
   ],
   "source": [
    "import re\n",
    "\n",
    "regex_coordenadas = r'^(\\((\\+|-)?(90|[0-8](\\d)?)(\\.(\\d)+)?\\,(\\s)?((\\+|-)?(180|((1[0-7]\\d|\\d{1,2})(\\.(\\d)+)?)))\\))$'\n",
    "p_coordenadas     = re.compile(regex_coordenadas)\n",
    "\n",
    "avalia = \"(75, 180)\",\"(+90, -147.45)\",\"(77.11112223331, 149.99999999)\",\"(+90, +180)\",\"(90, 180)\",\"(-90.00000, -180.0000)\",\"(75, 280)\",\"(+190.0, -147.45)\",\"(77.11112223331, 249.99999999)\",\"(+90, +180.2)\",\"(90., 180.)\",\"(-090.00000, -180.0000)\"\n",
    "\n",
    "for s in avalia:\n",
    "    if p_coordenadas.match(s):\n",
    "        print(\"Válido\")\n",
    "    else :\n",
    "        print(\"Inválido\")"
   ]
  },
  {
   "cell_type": "markdown",
   "metadata": {},
   "source": [
    "Problema 4: Matrículas de outro mundo\n",
    "    Num país algures, as matriculas seguem os seguintes requisitos:\n",
    "    • Uma matrícula tem 8 digitos;\n",
    "    • Os 8 dígitos estão divididos em 4 partes iguais de 2 dígitos por um separador que pode ser ’...’, ’-’ ou ’:’;\n",
    "    • Cada matrícula só pode ter uma espécie de separador;\n",
    "    • Os separadores tem de ter dígitos antes e depois, não há espaços.\n",
    "Desenvolva um filtro de texto que apanhe e contabilize as matriculas num texto."
   ]
  },
  {
   "cell_type": "code",
   "execution_count": 4,
   "metadata": {},
   "outputs": [],
   "source": [
    "import re\n",
    "\n",
    "regex_matricula = r'\\b\\d{2}(\\.\\.\\.|\\:|\\-)(\\d{2}\\1){2}\\d{2}\\b'\n",
    "\n",
    "texto = \"Um alien alfredo em andromeda com um ferrari de matricula 12:12:23:69 foi multado por excesso de velocidade aerea. Todavia o alfredo tem um renault de matricula 23-33-44-53. Para além disso tem duas matriculas falsas 12:11-21...22 e 1:11:000:1\"\n",
    "\n",
    "match = re.search(regex_matricula,texto)\n",
    "print(match.group())"
   ]
  }
 ],
 "metadata": {
  "interpreter": {
   "hash": "916dbcbb3f70747c44a77c7bcd40155683ae19c65e1c03b4aa3499c5328201f1"
  },
  "kernelspec": {
   "display_name": "Python 3.8.10 64-bit",
   "language": "python",
   "name": "python3"
  },
  "language_info": {
   "codemirror_mode": {
    "name": "ipython",
    "version": 3
   },
   "file_extension": ".py",
   "mimetype": "text/x-python",
   "name": "python",
   "nbconvert_exporter": "python",
   "pygments_lexer": "ipython3",
   "version": "3.8.10"
  },
  "orig_nbformat": 4
 },
 "nbformat": 4,
 "nbformat_minor": 2
}
